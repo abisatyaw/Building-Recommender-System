{
 "metadata": {
  "language_info": {
   "codemirror_mode": {
    "name": "ipython",
    "version": 3
   },
   "file_extension": ".py",
   "mimetype": "text/x-python",
   "name": "python",
   "nbconvert_exporter": "python",
   "pygments_lexer": "ipython3",
   "version": "3.9.2"
  },
  "orig_nbformat": 2,
  "kernelspec": {
   "name": "python3",
   "display_name": "Python 3.9.2 64-bit",
   "metadata": {
    "interpreter": {
     "hash": "576538dbdbd2673c80eafab198b68335b56c31f29e9bf724a06a61be910f96cc"
    }
   }
  }
 },
 "nbformat": 4,
 "nbformat_minor": 2,
 "cells": [
  {
   "source": [
    "# Latar Belakang\n",
    "Terdapat 2 dasar tipe sistem rekomendasi\n",
    "\n",
    "1. Sistem Rekomendasi Sederhana\n",
    "1. Sistem Rekomendasi Berdasarkan Konten dari Fiturnya\n",
    "\n",
    "Sistem Rekomendasi Sederhana, seperti namanya adalah sistem rekomendasi yang hanya menggunakan urutan sebagai dasar perhitungannya, yang biasanya digunakan dalam '5 film terbaik' kita akan menggunakan urutan berdasarkan mungkin vote terbanyak, rating tertinggi, penjualan film paling tinggi, atau apapun yang lain.\n",
    "Dalam kasus ini, kita akan menggunakan kombinasi antara rata-rata rating, jumlah vote, dan membentuk metric baru dari metric yang sudah ada, kemudian kita akan melakukan sorting untuk metric ini dari yang tertinggi ke terendah."
   ],
   "cell_type": "markdown",
   "metadata": {}
  },
  {
   "source": [
    "# Simple Recommender Engine using Weighted Average\n",
    "1. Film-film yang lebih populer akan memiliki kemungkinan yang lebih besar untuk disukai juga oleh rata-rata penonton.\n",
    "1. Model ini tidak memberikan rekomendasi yang personal untuk setiap tipe user. \n",
    "1. Implementasi model ini pun juga bisa dibilang cukup mudah, yang perlu kita lakukan hanyalah mengurutkan film-film tersebut berdasarkan rating dan popularitas dan menunjukkan film teratas dari list film tersebut.\n",
    "\n",
    "Sebagai tambahan, kita dapat menambahkan genre untuk mendapatkan film teratas untuk genre spesifik tersebut\n"
   ],
   "cell_type": "markdown",
   "metadata": {}
  },
  {
   "source": [
    "# Import Library dan File Unloading\n",
    "Langkah pertama yang harus kita lakukan adalah melakukan import library yang dibutuhkan untuk pengerjaan project ini dan melakukan pembacaan dataset.\n",
    "\n",
    "Notes :\n",
    "\n",
    "Library yang akan kita gunakan adalah pandas (as pd) dan numpy (as np)\n",
    "Dataset yang akan digunakan adalah title.basics.tsv dan title.ratings.tsv\n",
    "\n",
    "Akses dataset :\n",
    "\n",
    "title.basic.tsv = https://storage.googleapis.com/dqlab-dataset/title.basics.tsv\n",
    "\n",
    "title.ratings.tsv = https://storage.googleapis.com/dqlab-dataset/title.ratings.tsv"
   ],
   "cell_type": "markdown",
   "metadata": {}
  },
  {
   "cell_type": "code",
   "execution_count": 1,
   "metadata": {},
   "outputs": [],
   "source": [
    "#import library yang dibutuhkan\n",
    "import pandas as pd\n",
    "import numpy as np\n",
    "#lakukan pembacaan dataset\n",
    "movie_df = pd.read_csv(\"https://storage.googleapis.com/dqlab-dataset/title.basics.tsv\", sep='\\t') #untuk menyimpan title_basics.tsv\n",
    "rating_df = pd.read_csv(\"https://storage.googleapis.com/dqlab-dataset/title.ratings.tsv\", sep='\\t') #untuk menyimpan title.ratings.tsv\n"
   ]
  },
  {
   "source": [
    "# 5 Data teratas pada title movie"
   ],
   "cell_type": "markdown",
   "metadata": {}
  },
  {
   "cell_type": "code",
   "execution_count": 2,
   "metadata": {},
   "outputs": [
    {
     "output_type": "stream",
     "name": "stdout",
     "text": [
      "      tconst  titleType                                      primaryTitle  \\\n0  tt0221078      short                         Circle Dance, Ute Indians   \n1  tt8862466  tvEpisode  ¡El #TeamOsos va con todo al \"Reality del amor\"!   \n2  tt7157720  tvEpisode                                     Episode #3.41   \n3  tt2974998  tvEpisode                         Episode dated 16 May 1987   \n4  tt2903620  tvEpisode                  Frances Bavier: Aunt Bee Retires   \n\n                                      originalTitle  isAdult startYear  \\\n0                         Circle Dance, Ute Indians        0      1898   \n1  ¡El #TeamOsos va con todo al \"Reality del amor\"!        0      2018   \n2                                     Episode #3.41        0      2016   \n3                         Episode dated 16 May 1987        0      1987   \n4                  Frances Bavier: Aunt Bee Retires        0      1973   \n\n  endYear runtimeMinutes             genres  \n0      \\N             \\N  Documentary,Short  \n1      \\N             \\N       Comedy,Drama  \n2      \\N             29   Comedy,Game-Show  \n3      \\N             \\N               News  \n4      \\N             \\N        Documentary  \n"
     ]
    }
   ],
   "source": [
    "print(movie_df.head())"
   ]
  },
  {
   "source": [
    "# Tipe Data dari Setiap Kolom\n"
   ],
   "cell_type": "markdown",
   "metadata": {}
  },
  {
   "cell_type": "code",
   "execution_count": 6,
   "metadata": {},
   "outputs": [
    {
     "output_type": "stream",
     "name": "stdout",
     "text": [
      "<class 'pandas.core.frame.DataFrame'>\nRangeIndex: 9025 entries, 0 to 9024\nData columns (total 9 columns):\n #   Column          Non-Null Count  Dtype \n---  ------          --------------  ----- \n 0   tconst          9025 non-null   object\n 1   titleType       9025 non-null   object\n 2   primaryTitle    9011 non-null   object\n 3   originalTitle   9011 non-null   object\n 4   isAdult         9025 non-null   int64 \n 5   startYear       9025 non-null   object\n 6   endYear         9025 non-null   object\n 7   runtimeMinutes  9025 non-null   object\n 8   genres          9014 non-null   object\ndtypes: int64(1), object(8)\nmemory usage: 634.7+ KB\nNone\n"
     ]
    }
   ],
   "source": [
    "print(movie_df.info())"
   ]
  },
  {
   "source": [
    "# Pengecekan Data dengan Nilai NULL\n",
    "data bernilai NULL pada masing-masing kolom yang ada pada table movie (movie_df)"
   ],
   "cell_type": "markdown",
   "metadata": {}
  },
  {
   "cell_type": "code",
   "execution_count": 8,
   "metadata": {},
   "outputs": [
    {
     "output_type": "stream",
     "name": "stdout",
     "text": [
      "tconst             0\ntitleType          0\nprimaryTitle      14\noriginalTitle     14\nisAdult            0\nstartYear          0\nendYear            0\nruntimeMinutes     0\ngenres            11\ndtype: int64\n"
     ]
    }
   ],
   "source": [
    "print(movie_df.isnull().sum())"
   ]
  },
  {
   "source": [
    "# Analisis Kolom dengan data bernilai NULL\n",
    "melakukan pengecekan terhadap bentuk data dari kolom primaryTitle dan originalTitle yang bernilai NULL. "
   ],
   "cell_type": "markdown",
   "metadata": {}
  },
  {
   "cell_type": "code",
   "execution_count": 9,
   "metadata": {},
   "outputs": [
    {
     "output_type": "stream",
     "name": "stdout",
     "text": [
      "          tconst  titleType primaryTitle originalTitle  isAdult startYear  \\\n9000  tt10790040  tvEpisode          NaN           NaN        0      2019   \n9001  tt10891902  tvEpisode          NaN           NaN        0      2020   \n9002  tt11737860  tvEpisode          NaN           NaN        0      2020   \n9003  tt11737862  tvEpisode          NaN           NaN        0      2020   \n9004  tt11737866  tvEpisode          NaN           NaN        0      2020   \n9005  tt11737872  tvEpisode          NaN           NaN        0      2020   \n9006  tt11737874  tvEpisode          NaN           NaN        0      2020   \n9007   tt1971246  tvEpisode          NaN           NaN        0      2011   \n9008   tt2067043  tvEpisode          NaN           NaN        0      1965   \n9009   tt4404732  tvEpisode          NaN           NaN        0      2015   \n9010   tt5773048  tvEpisode          NaN           NaN        0      2015   \n9011   tt8473688  tvEpisode          NaN           NaN        0      1987   \n9012   tt8541336  tvEpisode          NaN           NaN        0      2018   \n9013   tt9824302  tvEpisode          NaN           NaN        0      2016   \n\n     endYear runtimeMinutes                genres  \n9000      \\N             \\N                    \\N  \n9001      \\N             \\N                 Crime  \n9002      \\N             \\N  Comedy,Drama,Romance  \n9003      \\N             \\N  Comedy,Drama,Romance  \n9004      \\N             \\N  Comedy,Drama,Romance  \n9005      \\N             \\N                    \\N  \n9006      \\N             \\N  Comedy,Drama,Romance  \n9007      \\N             \\N             Biography  \n9008      \\N             \\N                 Music  \n9009      \\N             \\N                Comedy  \n9010      \\N             \\N             Talk-Show  \n9011      \\N             \\N                 Drama  \n9012      \\N             \\N    Reality-TV,Romance  \n9013      \\N             \\N           Documentary  \n"
     ]
    }
   ],
   "source": [
    "print(movie_df.loc[(movie_df['primaryTitle'].isnull()) | (movie_df['originalTitle'].isnull())])"
   ]
  },
  {
   "source": [
    "Membuang Data dengan Nilai NULL"
   ],
   "cell_type": "markdown",
   "metadata": {}
  },
  {
   "cell_type": "code",
   "execution_count": null,
   "metadata": {},
   "outputs": [],
   "source": [
    "#mengupdate movie_df dengan membuang data-data bernilai NULL\n",
    "movie_df = movie_df = movie_df.loc[(movie_df['primaryTitle'].notnull()) & (movie_df['originalTitle'].notnull())]\n",
    "#menampilkan jumlah data setelah data dengan nilai NULL dibuang\n",
    "print(len(movie_df))"
   ]
  }
 ]
}