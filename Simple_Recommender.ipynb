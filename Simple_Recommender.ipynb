{
 "metadata": {
  "language_info": {
   "codemirror_mode": {
    "name": "ipython",
    "version": 3
   },
   "file_extension": ".py",
   "mimetype": "text/x-python",
   "name": "python",
   "nbconvert_exporter": "python",
   "pygments_lexer": "ipython3",
   "version": "3.9.2"
  },
  "orig_nbformat": 2,
  "kernelspec": {
   "name": "python3",
   "display_name": "Python 3.9.2 64-bit",
   "metadata": {
    "interpreter": {
     "hash": "576538dbdbd2673c80eafab198b68335b56c31f29e9bf724a06a61be910f96cc"
    }
   }
  }
 },
 "nbformat": 4,
 "nbformat_minor": 2,
 "cells": [
  {
   "source": [
    "# Latar Belakang\n",
    "Terdapat 2 dasar tipe sistem rekomendasi\n",
    "\n",
    "1. Sistem Rekomendasi Sederhana\n",
    "1. Sistem Rekomendasi Berdasarkan Konten dari Fiturnya\n",
    "\n",
    "Sistem Rekomendasi Sederhana, seperti namanya adalah sistem rekomendasi yang hanya menggunakan urutan sebagai dasar perhitungannya, yang biasanya digunakan dalam '5 film terbaik' kita akan menggunakan urutan berdasarkan mungkin vote terbanyak, rating tertinggi, penjualan film paling tinggi, atau apapun yang lain.\n",
    "Dalam kasus ini, kita akan menggunakan kombinasi antara rata-rata rating, jumlah vote, dan membentuk metric baru dari metric yang sudah ada, kemudian kita akan melakukan sorting untuk metric ini dari yang tertinggi ke terendah."
   ],
   "cell_type": "markdown",
   "metadata": {}
  },
  {
   "source": [
    "# Simple Recommender Engine using Weighted Average\n",
    "1. Film-film yang lebih populer akan memiliki kemungkinan yang lebih besar untuk disukai juga oleh rata-rata penonton.\n",
    "1. Model ini tidak memberikan rekomendasi yang personal untuk setiap tipe user. \n",
    "1. Implementasi model ini pun juga bisa dibilang cukup mudah, yang perlu kita lakukan hanyalah mengurutkan film-film tersebut berdasarkan rating dan popularitas dan menunjukkan film teratas dari list film tersebut.\n",
    "\n",
    "Sebagai tambahan, kita dapat menambahkan genre untuk mendapatkan film teratas untuk genre spesifik tersebut\n"
   ],
   "cell_type": "markdown",
   "metadata": {}
  },
  {
   "source": [
    "# Import Library dan File Unloading\n",
    "Langkah pertama yang harus kita lakukan adalah melakukan import library yang dibutuhkan untuk pengerjaan project ini dan melakukan pembacaan dataset.\n",
    "\n",
    "Notes :\n",
    "\n",
    "Library yang akan kita gunakan adalah pandas (as pd) dan numpy (as np)\n",
    "Dataset yang akan digunakan adalah title.basics.tsv dan title.ratings.tsv\n",
    "\n",
    "Akses dataset :\n",
    "\n",
    "title.basic.tsv = https://storage.googleapis.com/dqlab-dataset/title.basics.tsv\n",
    "\n",
    "title.ratings.tsv = https://storage.googleapis.com/dqlab-dataset/title.ratings.tsv"
   ],
   "cell_type": "markdown",
   "metadata": {}
  },
  {
   "cell_type": "code",
   "execution_count": 11,
   "metadata": {},
   "outputs": [],
   "source": [
    "#import library yang dibutuhkan\n",
    "import pandas as pd\n",
    "import numpy as np\n",
    "#lakukan pembacaan dataset\n",
    "movie_df = pd.read_csv(\"https://storage.googleapis.com/dqlab-dataset/title.basics.tsv\", sep='\\t') #untuk menyimpan title_basics.tsv\n",
    "rating_df = pd.read_csv(\"https://storage.googleapis.com/dqlab-dataset/title.ratings.tsv\", sep='\\t') #untuk menyimpan title.ratings.tsv\n"
   ]
  },
  {
   "source": [
    "# 5 Data teratas pada title movie"
   ],
   "cell_type": "markdown",
   "metadata": {}
  },
  {
   "cell_type": "code",
   "execution_count": 13,
   "metadata": {},
   "outputs": [
    {
     "output_type": "stream",
     "name": "stdout",
     "text": [
      "      tconst  titleType                                      primaryTitle  \\\n0  tt0221078      short                         Circle Dance, Ute Indians   \n1  tt8862466  tvEpisode  ¡El #TeamOsos va con todo al \"Reality del amor\"!   \n2  tt7157720  tvEpisode                                     Episode #3.41   \n3  tt2974998  tvEpisode                         Episode dated 16 May 1987   \n4  tt2903620  tvEpisode                  Frances Bavier: Aunt Bee Retires   \n\n                                      originalTitle  isAdult startYear  \\\n0                         Circle Dance, Ute Indians        0      1898   \n1  ¡El #TeamOsos va con todo al \"Reality del amor\"!        0      2018   \n2                                     Episode #3.41        0      2016   \n3                         Episode dated 16 May 1987        0      1987   \n4                  Frances Bavier: Aunt Bee Retires        0      1973   \n\n  endYear runtimeMinutes             genres  \n0      \\N             \\N  Documentary,Short  \n1      \\N             \\N       Comedy,Drama  \n2      \\N             29   Comedy,Game-Show  \n3      \\N             \\N               News  \n4      \\N             \\N        Documentary  \n"
     ]
    }
   ],
   "source": [
    "print(movie_df.head())"
   ]
  },
  {
   "source": [
    "# Tipe Data dari Setiap Kolom\n"
   ],
   "cell_type": "markdown",
   "metadata": {}
  },
  {
   "cell_type": "code",
   "execution_count": 15,
   "metadata": {},
   "outputs": [
    {
     "output_type": "stream",
     "name": "stdout",
     "text": [
      "<class 'pandas.core.frame.DataFrame'>\nRangeIndex: 9025 entries, 0 to 9024\nData columns (total 9 columns):\n #   Column          Non-Null Count  Dtype \n---  ------          --------------  ----- \n 0   tconst          9025 non-null   object\n 1   titleType       9025 non-null   object\n 2   primaryTitle    9011 non-null   object\n 3   originalTitle   9011 non-null   object\n 4   isAdult         9025 non-null   int64 \n 5   startYear       9025 non-null   object\n 6   endYear         9025 non-null   object\n 7   runtimeMinutes  9025 non-null   object\n 8   genres          9014 non-null   object\ndtypes: int64(1), object(8)\nmemory usage: 634.7+ KB\nNone\n"
     ]
    }
   ],
   "source": [
    "print(movie_df.info())"
   ]
  },
  {
   "source": [
    "# Pengecekan Data dengan Nilai NULL\n",
    "data bernilai NULL pada masing-masing kolom yang ada pada table movie (movie_df)"
   ],
   "cell_type": "markdown",
   "metadata": {}
  },
  {
   "cell_type": "code",
   "execution_count": 17,
   "metadata": {},
   "outputs": [
    {
     "output_type": "stream",
     "name": "stdout",
     "text": [
      "tconst             0\ntitleType          0\nprimaryTitle      14\noriginalTitle     14\nisAdult            0\nstartYear          0\nendYear            0\nruntimeMinutes     0\ngenres            11\ndtype: int64\n"
     ]
    }
   ],
   "source": [
    "print(movie_df.isnull().sum())"
   ]
  },
  {
   "source": [
    "# Analisis Kolom dengan data bernilai NULL\n",
    "melakukan pengecekan terhadap bentuk data dari kolom primaryTitle dan originalTitle yang bernilai NULL. "
   ],
   "cell_type": "markdown",
   "metadata": {}
  },
  {
   "cell_type": "code",
   "execution_count": 19,
   "metadata": {},
   "outputs": [
    {
     "output_type": "stream",
     "name": "stdout",
     "text": [
      "          tconst  titleType primaryTitle originalTitle  isAdult startYear  \\\n",
      "9000  tt10790040  tvEpisode          NaN           NaN        0      2019   \n",
      "9001  tt10891902  tvEpisode          NaN           NaN        0      2020   \n",
      "9002  tt11737860  tvEpisode          NaN           NaN        0      2020   \n",
      "9003  tt11737862  tvEpisode          NaN           NaN        0      2020   \n",
      "9004  tt11737866  tvEpisode          NaN           NaN        0      2020   \n",
      "9005  tt11737872  tvEpisode          NaN           NaN        0      2020   \n",
      "9006  tt11737874  tvEpisode          NaN           NaN        0      2020   \n",
      "9007   tt1971246  tvEpisode          NaN           NaN        0      2011   \n",
      "9008   tt2067043  tvEpisode          NaN           NaN        0      1965   \n",
      "9009   tt4404732  tvEpisode          NaN           NaN        0      2015   \n",
      "9010   tt5773048  tvEpisode          NaN           NaN        0      2015   \n",
      "9011   tt8473688  tvEpisode          NaN           NaN        0      1987   \n",
      "9012   tt8541336  tvEpisode          NaN           NaN        0      2018   \n",
      "9013   tt9824302  tvEpisode          NaN           NaN        0      2016   \n",
      "\n",
      "     endYear runtimeMinutes                genres  \n",
      "9000      \\N             \\N                    \\N  \n",
      "9001      \\N             \\N                 Crime  \n",
      "9002      \\N             \\N  Comedy,Drama,Romance  \n",
      "9003      \\N             \\N  Comedy,Drama,Romance  \n",
      "9004      \\N             \\N  Comedy,Drama,Romance  \n",
      "9005      \\N             \\N                    \\N  \n",
      "9006      \\N             \\N  Comedy,Drama,Romance  \n",
      "9007      \\N             \\N             Biography  \n",
      "9008      \\N             \\N                 Music  \n",
      "9009      \\N             \\N                Comedy  \n",
      "9010      \\N             \\N             Talk-Show  \n",
      "9011      \\N             \\N                 Drama  \n",
      "9012      \\N             \\N    Reality-TV,Romance  \n",
      "9013      \\N             \\N           Documentary  \n"
     ]
    }
   ],
   "source": [
    "print(movie_df.loc[(movie_df['primaryTitle'].isnull()) | (movie_df['originalTitle'].isnull())])"
   ]
  },
  {
   "source": [
    "# Membuang Data dengan Nilai NULL"
   ],
   "cell_type": "markdown",
   "metadata": {}
  },
  {
   "cell_type": "code",
   "execution_count": 23,
   "metadata": {},
   "outputs": [
    {
     "output_type": "stream",
     "name": "stdout",
     "text": [
      "9011\n"
     ]
    }
   ],
   "source": [
    "#mengupdate movie_df dengan membuang data-data bernilai NULL\n",
    "movie_df = movie_df.loc[(movie_df['primaryTitle'].notnull()) & (movie_df['originalTitle'].notnull())]\n",
    "\n",
    "#menampilkan jumlah data setelah data dengan nilai NULL dibuang\n",
    "print(len(movie_df))"
   ]
  },
  {
   "source": [
    "# Analisis Kolom dengan data bernilai NULL\n",
    "Selain kolom 'primaryTitle' dan 'originalTitle',masih terdapat kolom lain yang memiliki data bernilai NULL. Kolom tersebut adalah kolom 'genres'\n",
    "\n",
    "Selanjutnya, kita akan melakukan hal yang sama seperti yang sudah kita lakukan pada kolom 'primaryTitle' dan 'originalTitle'.\n",
    "\n",
    "Lakukan pengecekan terhadap bentuk data dari kolom genres yang bernilai NULL. "
   ],
   "cell_type": "markdown",
   "metadata": {}
  },
  {
   "cell_type": "code",
   "execution_count": 26,
   "metadata": {},
   "outputs": [
    {
     "output_type": "stream",
     "name": "stdout",
     "text": [
      "          tconst  titleType  \\\n9014  tt10233364  tvEpisode   \n9015  tt10925142  tvEpisode   \n9016  tt10970874  tvEpisode   \n9017  tt11670006  tvEpisode   \n9018  tt11868642  tvEpisode   \n9019   tt2347742  tvEpisode   \n9020   tt3984412  tvEpisode   \n9021   tt8740950  tvEpisode   \n9022   tt9822816  tvEpisode   \n9023   tt9900062  tvEpisode   \n9024   tt9909210  tvEpisode   \n\n                                           primaryTitle originalTitle  \\\n9014  Rolling in the Deep Dish\\tRolling in the Deep ...             0   \n9015  The IMDb Show on Location: Star Wars Galaxy's ...             0   \n9016  Die Bauhaus-Stadt Tel Aviv - Vorbild für die M...             0   \n9017  ...ein angenehmer Unbequemer...\\t...ein angene...             0   \n9018  GGN Heavyweight Championship Lungs With Mike T...             0   \n9019  No sufras por la alergia esta primavera\\tNo su...             0   \n9020  I'm Not Going to Come Last, I'm Just Going to ...             0   \n9021  Weight Loss Resolution Restart - Ins & Outs of...             0   \n9022  Zwischen Vertuschung und Aufklärung - Missbrau...             0   \n9023  The Direction of Yuu's Love: Hings Aren't Goin...             0   \n9024  Politik und/oder Moral - Wie weit geht das Ver...             0   \n\n      isAdult startYear endYear          runtimeMinutes genres  \n9014     2019        \\N      \\N              Reality-TV    NaN  \n9015     2019        \\N      \\N               Talk-Show    NaN  \n9016     2019        \\N      \\N                      \\N    NaN  \n9017     1981        \\N      \\N             Documentary    NaN  \n9018     2020        \\N      \\N               Talk-Show    NaN  \n9019     2004        \\N      \\N                      \\N    NaN  \n9020     2014        \\N      \\N              Reality-TV    NaN  \n9021     2015        \\N      \\N              Reality-TV    NaN  \n9022     2019        \\N      \\N                      \\N    NaN  \n9023     1994        \\N      \\N  Animation,Comedy,Drama    NaN  \n9024     2005        \\N      \\N                      \\N    NaN  \n"
     ]
    }
   ],
   "source": [
    "print(movie_df.loc[movie_df['genres'].isnull()])"
   ]
  },
  {
   "source": [
    "# Membuang Data dengan Nilai NULL\n",
    "Setelah melihat hasil sebelumnya, dapat dilihat bahwa semua data tidak memiliki judul dan kita dapat membuang data-data tersebut.Pekerjaan selanjutnya yang akan kita lakukan adalah membuang data dengan nilai NULL tersebut dan melihat jumlah data yang ada setelah data-data bernilai NULL tersebut dibuang. "
   ],
   "cell_type": "markdown",
   "metadata": {}
  },
  {
   "cell_type": "code",
   "execution_count": 28,
   "metadata": {},
   "outputs": [
    {
     "output_type": "stream",
     "name": "stdout",
     "text": [
      "9000\n"
     ]
    }
   ],
   "source": [
    "#mengupdate movie_df dengan membuang data-data bernilai NULL\n",
    "movie_df = movie_df.loc[movie_df['genres'].notnull()]\n",
    "\n",
    "#menampilkan jumlah data setelah data dengan nilai NULL dibuang\n",
    "print(len(movie_df))"
   ]
  },
  {
   "source": [
    "# Mengubah Nilai '\\\\N'\n",
    "Jika kita perhatikan pada kolom 'startYear' , 'endYear', dan 'runtimeMinutes', terdapat data dengan nilai '\\\\\\N'\n",
    "\n",
    "'\\\\\\N' berarti NULL.\n",
    "\n",
    "Hal selanjutnya yang akan kita lakukan adalah mengubah nilai dari \\\\\\\\N tersebur menjadi np.nan dan melakukan casting kolom startYear, endYear, dan runtimeMinutes menjadi float64."
   ],
   "cell_type": "markdown",
   "metadata": {}
  },
  {
   "cell_type": "code",
   "execution_count": 29,
   "metadata": {},
   "outputs": [
    {
     "output_type": "stream",
     "name": "stdout",
     "text": [
      "[1898. 2018. 2016. 1987. 1973.]\n[  nan 2005. 1955. 2006. 1999.]\n[nan 29.  7. 23. 85.]\n"
     ]
    }
   ],
   "source": [
    "#mengubah nilai '\\\\N' pada startYear menjadi np.nan dan cast kolomnya menjadi float64\n",
    "movie_df['startYear'] = movie_df['startYear'].replace('\\\\N', np.nan)\n",
    "movie_df['startYear'] = movie_df['startYear'].astype('float64')\n",
    "print(movie_df['startYear'].unique()[:5])\n",
    "\n",
    "#mengubah nilai '\\\\N' pada endYear menjadi np.nan dan cast kolomnya menjadi float64\n",
    "movie_df['endYear'] = movie_df['endYear'].replace('\\\\N', np.nan)\n",
    "movie_df['endYear'] = movie_df['endYear'].astype('float64')\n",
    "print(movie_df['endYear'].unique()[:5])\n",
    "\n",
    "#mengubah nilai '\\\\N' pada runtimeMinutes menjadi np.nan dan cast kolomnya menjadi float64\n",
    "movie_df['runtimeMinutes'] = movie_df['runtimeMinutes'].replace('\\\\N', np.nan)\n",
    "movie_df['runtimeMinutes'] = movie_df['runtimeMinutes'].astype('float64')\n",
    "print(movie_df['runtimeMinutes'].unique()[:5])"
   ]
  },
  {
   "source": [
    "# Mengubah nilai genres menjadi list\n",
    "Selanjutnya, kita akan membuat sebuah function yang bernama transform_to_list untuk mengubah nilai genre menjadi list. \n"
   ],
   "cell_type": "markdown",
   "metadata": {}
  },
  {
   "cell_type": "code",
   "execution_count": 30,
   "metadata": {},
   "outputs": [],
   "source": [
    "def transform_to_list(x):\n",
    "    if ',' in x: \n",
    "    #ubah menjadi list apabila ada data pada kolom genre\n",
    "        return x.split(',')\n",
    "    else: \n",
    "    #jika tidak ada data, ubah menjadi list kosong\n",
    "        return []\n",
    "\n",
    "movie_df['genres'] = movie_df['genres'].apply(lambda x: transform_to_list(x))"
   ]
  },
  {
   "source": [
    "Menampilkan 5 data teratas\n",
    "Seperti yang sudah kita lakukan pada table movie (movie_df) sebelumnya, sekarang kita akan menampilkan 5 data teratas dari table ratings (rating_df)"
   ],
   "cell_type": "markdown",
   "metadata": {}
  },
  {
   "cell_type": "code",
   "execution_count": 31,
   "metadata": {},
   "outputs": [
    {
     "output_type": "stream",
     "name": "stdout",
     "text": [
      "      tconst  averageRating  numVotes\n0  tt0000001            5.6      1608\n1  tt0000002            6.0       197\n2  tt0000003            6.5      1285\n3  tt0000004            6.1       121\n4  tt0000005            6.1      2050\n"
     ]
    }
   ],
   "source": [
    "print(rating_df.head())"
   ]
  },
  {
   "source": [
    "# Menampilkan tipe data\n",
    "Selanjutnya, kita akan menampilkan tipe data dari masing-masing kolom yang ada pada table rating (rating_df)"
   ],
   "cell_type": "markdown",
   "metadata": {}
  },
  {
   "cell_type": "code",
   "execution_count": 32,
   "metadata": {},
   "outputs": [
    {
     "output_type": "stream",
     "name": "stdout",
     "text": [
      "<class 'pandas.core.frame.DataFrame'>\nRangeIndex: 1030009 entries, 0 to 1030008\nData columns (total 3 columns):\n #   Column         Non-Null Count    Dtype  \n---  ------         --------------    -----  \n 0   tconst         1030009 non-null  object \n 1   averageRating  1030009 non-null  float64\n 2   numVotes       1030009 non-null  int64  \ndtypes: float64(1), int64(1), object(1)\nmemory usage: 23.6+ MB\nNone\n"
     ]
    }
   ],
   "source": [
    "print(rating_df.info())"
   ]
  },
  {
   "source": [
    "# Inner Join table movie dan table rating\n",
    "Mari kita melakukan inner join antara rating_df dan movie_df untuk mendapatkan rating pada setiap film yang tersedia, lalu tampilkan 5 data teratas dan tipe data dari tiap kolom yang ada. "
   ],
   "cell_type": "markdown",
   "metadata": {}
  },
  {
   "cell_type": "code",
   "execution_count": 34,
   "metadata": {},
   "outputs": [
    {
     "output_type": "stream",
     "name": "stdout",
     "text": [
      "      tconst  titleType              primaryTitle             originalTitle  \\\n0  tt0043745      short                 Lion Down                 Lion Down   \n1  tt0167491      video         Wicked Covergirls         Wicked Covergirls   \n2  tt6574096  tvEpisode      Shadow Play - Part 2      Shadow Play - Part 2   \n3  tt6941700  tvEpisode              RuPaul Roast              RuPaul Roast   \n4  tt7305674      video  UCLA Track & Field Promo  UCLA Track & Field Promo   \n\n   isAdult  startYear  endYear  runtimeMinutes  \\\n0        0     1951.0      NaN             7.0   \n1        1     1998.0      NaN            85.0   \n2        0     2017.0      NaN            22.0   \n3        0     2017.0      NaN             NaN   \n4        0     2017.0      NaN             NaN   \n\n                           genres  averageRating  numVotes  \n0     [Animation, Comedy, Family]            7.1       459  \n1                              []            5.7         7  \n2  [Adventure, Animation, Comedy]            8.5       240  \n3                              []            8.0        11  \n4                  [Short, Sport]            9.7         7  \n<class 'pandas.core.frame.DataFrame'>\nInt64Index: 1376 entries, 0 to 1375\nData columns (total 11 columns):\n #   Column          Non-Null Count  Dtype  \n---  ------          --------------  -----  \n 0   tconst          1376 non-null   object \n 1   titleType       1376 non-null   object \n 2   primaryTitle    1376 non-null   object \n 3   originalTitle   1376 non-null   object \n 4   isAdult         1376 non-null   int64  \n 5   startYear       1376 non-null   float64\n 6   endYear         26 non-null     float64\n 7   runtimeMinutes  1004 non-null   float64\n 8   genres          1376 non-null   object \n 9   averageRating   1376 non-null   float64\n 10  numVotes        1376 non-null   int64  \ndtypes: float64(4), int64(2), object(5)\nmemory usage: 129.0+ KB\nNone\n"
     ]
    }
   ],
   "source": [
    "#Lakukan join pada kedua table\n",
    "movie_rating_df = pd.merge(movie_df, rating_df, on='tconst', how='inner')\n",
    "\n",
    "#Tampilkan 5 data teratas\n",
    "print(movie_rating_df.head())\n",
    "\n",
    "#Tampilkan tipe data dari tiap kolom\n",
    "print(movie_rating_df.info())"
   ]
  },
  {
   "source": [
    "# Memperkecil ukuran Table\n",
    "Hal selanjutnya yang akan kita lakukan adalah memperkecil ukuran table dengan menghilangkan semua nilai NULL dari kolom startYear dan runtimeMinutes karena tidak masuk akal jikalau film tersebut tidak diketahui kapan tahun rilis dan durasi nya. "
   ],
   "cell_type": "markdown",
   "metadata": {}
  },
  {
   "cell_type": "code",
   "execution_count": 36,
   "metadata": {},
   "outputs": [
    {
     "output_type": "stream",
     "name": "stdout",
     "text": [
      "<class 'pandas.core.frame.DataFrame'>\nInt64Index: 929 entries, 0 to 1374\nData columns (total 11 columns):\n #   Column          Non-Null Count  Dtype  \n---  ------          --------------  -----  \n 0   tconst          929 non-null    object \n 1   titleType       929 non-null    object \n 2   primaryTitle    929 non-null    object \n 3   originalTitle   929 non-null    object \n 4   isAdult         929 non-null    int64  \n 5   startYear       929 non-null    float64\n 6   endYear         14 non-null     float64\n 7   runtimeMinutes  929 non-null    float64\n 8   genres          929 non-null    object \n 9   averageRating   929 non-null    float64\n 10  numVotes        929 non-null    int64  \ndtypes: float64(4), int64(2), object(5)\nmemory usage: 87.1+ KB\nNone\n"
     ]
    }
   ],
   "source": [
    "movie_rating_df = movie_rating_df.dropna(subset=['startYear','runtimeMinutes'])\n",
    "\n",
    "#Untuk memastikan bahwa sudah tidak ada lagi nilai NULL\n",
    "print(movie_rating_df.info())"
   ]
  },
  {
   "source": [
    "# Pertanyaan 1: Berapa nilai C?\n",
    "Hal pertama yang akan kita cari adalah nilai dari C yang merupakan rata-rata dari averageRating"
   ],
   "cell_type": "markdown",
   "metadata": {}
  },
  {
   "cell_type": "code",
   "execution_count": 37,
   "metadata": {},
   "outputs": [
    {
     "output_type": "stream",
     "name": "stdout",
     "text": [
      "6.8290635091496235\n"
     ]
    }
   ],
   "source": [
    "C = movie_rating_df[\"averageRating\"].mean()\n",
    "print(C)"
   ]
  },
  {
   "source": [
    "# Berapa nilai M\n",
    "Mari kita ambil contoh film dengan numVotes di atas 80% populasi, jadi populasi yang akan kita ambil hanya sebesar 20%. "
   ],
   "cell_type": "markdown",
   "metadata": {}
  },
  {
   "cell_type": "code",
   "execution_count": 38,
   "metadata": {},
   "outputs": [
    {
     "output_type": "stream",
     "name": "stdout",
     "text": [
      "224.60000000000036\n"
     ]
    }
   ],
   "source": [
    "m = movie_rating_df['numVotes'].quantile(0.8)\n",
    "print(m)"
   ]
  },
  {
   "source": [
    "# membuat fungsi weighted formula\n",
    "Selanjutnya kita harus membuat sebuah fungsi dengan menggunakan dataframe sebagai variable. \n",
    "\n"
   ],
   "cell_type": "markdown",
   "metadata": {}
  },
  {
   "cell_type": "code",
   "execution_count": 39,
   "metadata": {},
   "outputs": [
    {
     "output_type": "stream",
     "name": "stdout",
     "text": [
      "      tconst  titleType          primaryTitle         originalTitle  isAdult  \\\n0  tt0043745      short             Lion Down             Lion Down        0   \n1  tt0167491      video     Wicked Covergirls     Wicked Covergirls        1   \n2  tt6574096  tvEpisode  Shadow Play - Part 2  Shadow Play - Part 2        0   \n5  tt2262289      movie               The Pin               The Pin        0   \n6  tt0874027  tvEpisode         Episode #32.9         Episode #32.9        0   \n\n   startYear  endYear  runtimeMinutes                          genres  \\\n0     1951.0      NaN             7.0     [Animation, Comedy, Family]   \n1     1998.0      NaN            85.0                              []   \n2     2017.0      NaN            22.0  [Adventure, Animation, Comedy]   \n5     2013.0      NaN            85.0                              []   \n6     2006.0      NaN            29.0       [Comedy, Game-Show, News]   \n\n   averageRating  numVotes     score  \n0            7.1       459  7.010983  \n1            5.7         7  6.794938  \n2            8.5       240  7.692225  \n5            7.7        27  6.922526  \n6            8.0         8  6.869336  \n"
     ]
    }
   ],
   "source": [
    "def imdb_weighted_rating(df, var=0.8):\n",
    "    v = df['numVotes']\n",
    "    R = df['averageRating']\n",
    "    C = df['averageRating'].mean()\n",
    "    m = df['numVotes'].quantile(var)\n",
    "    df['score'] = (v/(m+v))*R +(m/(m+v))*C #Rumus IMDb \n",
    "    return df['score']\n",
    "    \n",
    "imdb_weighted_rating(movie_rating_df)\n",
    "\n",
    "#melakukan pengecekan dataframe\n",
    "print(movie_rating_df.head())"
   ]
  },
  {
   "source": [
    "# membuat simple recommender system\n",
    "Dari task yang sudah kita lakukan sebelumnya, telah terdapat field tambahan 'score'.\n",
    "\n",
    "Pertama kita akan filter numVotes yang lebih dari m kemudian diurutkan score dari tertinggi ke terendah untuk diambil nilai beberapa nilai teratas"
   ],
   "cell_type": "markdown",
   "metadata": {}
  },
  {
   "cell_type": "code",
   "execution_count": 41,
   "metadata": {},
   "outputs": [
    {
     "output_type": "stream",
     "name": "stdout",
     "text": [
      "         tconst  titleType                                   primaryTitle  \\\n68    tt4110822  tvEpisode                                  S.O.S. Part 2   \n236   tt2200252      video                    Attack of the Clones Review   \n1181  tt7697962  tvEpisode            Chapter Seventeen: The Missionaries   \n326   tt7124590  tvEpisode            Chapter Thirty-Four: Judgment Night   \n1045  tt0533506  tvEpisode                                       The Prom   \n71    tt8399426  tvEpisode                                        Savages   \n1234  tt2843830  tvEpisode                                          VIII.   \n1087  tt4295140   tvSeries                                   Chef's Table   \n448   tt0337566      video                       AC/DC: Live at Donington   \n624   tt0620159  tvEpisode                                     Strike Out   \n1281  tt3166390  tvEpisode                         Looking for a Plus-One   \n314   tt0954759  tvEpisode                                   Ben Franklin   \n189   tt5661506      video            Florence + the Machine: The Odyssey   \n151   tt3954426  tvEpisode                                Bleeding Kansas   \n1344  tt6644294  tvEpisode                 The Hostile Hospital: Part Two   \n1242  tt3677742  tvSpecial  Saturday Night Live: 40th Anniversary Special   \n49    tt9119838  tvEpisode                      Parisian Legend Has It...   \n544   tt0734655  tvEpisode                              The Little People   \n357   tt4084774  tvEpisode                           Trial and Punishment   \n1111  tt4174072  tvEpisode                     Immortal Emerges from Cave   \n790   tt4279086  tvEpisode                       And Santa's Midnight Run   \n972   tt0048028      movie                                   East of Eden   \n819   tt0032156      movie            The Story of the Last Chrysanthemum   \n605   tt9141176  tvEpisode                          59 horas desaparecido   \n983   tt5063116  tvEpisode                                          Shell   \n\n                                      originalTitle  isAdult  startYear  \\\n68                                    S.O.S. Part 2        0     2015.0   \n236                     Attack of the Clones Review        0     2010.0   \n1181            Chapter Seventeen: The Missionaries        0     2019.0   \n326             Chapter Thirty-Four: Judgment Night        0     2018.0   \n1045                                       The Prom        0     1999.0   \n71                                          Savages        0     2018.0   \n1234                                          VIII.        0     2014.0   \n1087                                   Chef's Table        0     2015.0   \n448                        AC/DC: Live at Donington        0     1992.0   \n624                                      Strike Out        0     2000.0   \n1281                         Looking for a Plus-One        0     2014.0   \n314                                    Ben Franklin        0     2007.0   \n189             Florence + the Machine: The Odyssey        0     2016.0   \n151                                 Bleeding Kansas        0     2014.0   \n1344                 The Hostile Hospital: Part Two        0     2018.0   \n1242  Saturday Night Live: 40th Anniversary Special        0     2015.0   \n49                        Parisian Legend Has It...        0     2019.0   \n544                               The Little People        0     1962.0   \n357                            Trial and Punishment        0     2015.0   \n1111                     Immortal Emerges from Cave        0     2017.0   \n790                        And Santa's Midnight Run        0     2014.0   \n972                                    East of Eden        0     1955.0   \n819                              Zangiku monogatari        0     1939.0   \n605                           59 horas desaparecido        0     2019.0   \n983                                           Shell        0     2016.0   \n\n      endYear  runtimeMinutes                       genres  averageRating  \\\n68        NaN            43.0   [Action, Adventure, Drama]            9.4   \n236       NaN            86.0                           []            9.3   \n1181      NaN            54.0     [Drama, Fantasy, Horror]            9.2   \n326       NaN            42.0      [Crime, Drama, Mystery]            9.1   \n1045      NaN            60.0     [Action, Drama, Fantasy]            8.9   \n71        NaN            58.0    [Drama, Fantasy, Romance]            9.0   \n1234      NaN            57.0           [Adventure, Drama]            8.9   \n1087      NaN            50.0                           []            8.6   \n448       NaN           120.0         [Documentary, Music]            8.5   \n624       NaN            30.0                           []            8.7   \n1281      NaN            28.0     [Comedy, Drama, Romance]            8.7   \n314       NaN            21.0                           []            8.1   \n189       NaN            49.0                           []            8.8   \n151       NaN            42.0             [Drama, Western]            8.6   \n1344      NaN            40.0   [Adventure, Comedy, Drama]            8.3   \n1242      NaN           106.0                           []            8.1   \n49        NaN            42.0                           []            8.9   \n544       NaN            25.0     [Drama, Fantasy, Horror]            8.1   \n357       NaN            56.0           [Adventure, Drama]            8.8   \n1111      NaN            53.0   [Action, Adventure, Crime]            8.0   \n790       NaN            42.0  [Action, Adventure, Comedy]            8.2   \n972       NaN           118.0                           []            7.9   \n819       NaN           143.0             [Drama, Romance]            7.9   \n605       NaN            48.0     [Crime, Drama, Thriller]            8.1   \n983       NaN            32.0              [Comedy, Drama]            8.5   \n\n      numVotes     score  \n68        3820  9.257234  \n236       1411  8.960692  \n1181      1536  8.897539  \n326       1859  8.855206  \n1045      2740  8.743105  \n71        1428  8.704954  \n1234      1753  8.664800  \n1087     12056  8.567611  \n448       1343  8.260594  \n624        401  8.028305  \n1281       396  8.022893  \n314       2766  8.004550  \n189        330  8.001817  \n151        437  7.998802  \n1344       812  7.981292  \n1242      1931  7.967576  \n49         263  7.946078  \n544       1559  7.939957  \n357        289  7.938099  \n1111      2898  7.915778  \n790        823  7.906078  \n972      38543  7.893796  \n819       2974  7.824801  \n605        674  7.782337  \n983        275  7.748814  \n"
     ]
    }
   ],
   "source": [
    "def simple_recommender(df, top=100):\n",
    "    df = df.loc[df['numVotes'] >= m]\n",
    "    df = df.sort_values(by='score', ascending = False) #urutkan dari nilai tertinggi ke terendah\n",
    "    \n",
    "    #Ambil data 100 teratas\n",
    "    df = df[:top]\n",
    "    return df\n",
    "    \n",
    "#Ambil data 25 teratas     \n",
    "print(simple_recommender(movie_rating_df, top=25))"
   ]
  },
  {
   "source": [
    "# membuat simple recommender system dengan user preferences\n",
    "Sistem rekomendasi ini masih bisa ditingkatkan dengan menambah filter spesifik tentang titleType, startYear, ataupun filter yang lain\n",
    "\n",
    "Pekerjaan selanjutnya yang akan kita lakukan adalah membuat function untuk melakukan filter berdasarkan isAdult, startYear, dan genres."
   ],
   "cell_type": "markdown",
   "metadata": {}
  },
  {
   "cell_type": "code",
   "execution_count": 42,
   "metadata": {},
   "outputs": [
    {
     "output_type": "stream",
     "name": "stdout",
     "text": [
      "         tconst  titleType                         primaryTitle  \\\n68    tt4110822  tvEpisode                        S.O.S. Part 2   \n1181  tt7697962  tvEpisode  Chapter Seventeen: The Missionaries   \n326   tt7124590  tvEpisode  Chapter Thirty-Four: Judgment Night   \n71    tt8399426  tvEpisode                              Savages   \n1234  tt2843830  tvEpisode                                VIII.   \n1281  tt3166390  tvEpisode               Looking for a Plus-One   \n151   tt3954426  tvEpisode                      Bleeding Kansas   \n1344  tt6644294  tvEpisode       The Hostile Hospital: Part Two   \n357   tt4084774  tvEpisode                 Trial and Punishment   \n605   tt9141176  tvEpisode                59 horas desaparecido   \n983   tt5063116  tvEpisode                                Shell   \n73    tt0847785  tvEpisode                          Like It Was   \n1272  tt0534736  tvEpisode                 Sex, Lies and Larvae   \n800   tt0901201  tvEpisode                           Crossroads   \n659   tt3909890  tvEpisode                                Moppa   \n977   tt4391820  tvEpisode                              Aisling   \n1096  tt6822518      movie                    Yasamak Güzel Sey   \n910   tt3348270  tvEpisode                            Bloodline   \n746   tt0534765  tvEpisode                      You've Got Male   \n509   tt1256301  tvEpisode                           Nine Lives   \n299   tt4527626  tvEpisode                His Troubled Thoughts   \n897   tt2349242  tvEpisode                        The Fifth Man   \n1090  tt0212815      movie                             Big Eden   \n109   tt1753383      movie                      A Dog's Purpose   \n550   tt8163822      short                The Neighbors' Window   \n834   tt6509862      movie                             Mr. Long   \n600   tt0329002      movie             Hard Goodbyes: My Father   \n691   tt3663996  tvEpisode                          Storm Watch   \n727   tt3563898   tvSeries            Brynhildr in the Darkness   \n164   tt0464049      movie                     The History Boys   \n893   tt8858104      movie                         Guava Island   \n927   tt3663990  tvEpisode                                Pilot   \n462   tt5197828  tvEpisode                                Right   \n1068  tt8369852  tvEpisode              I Think We're Alone Now   \n940   tt0396190      movie                     Return to Sender   \n610   tt3526706      movie                            Chevalier   \n1126  tt2151739      movie                Meet Me in Montenegro   \n637   tt0857275      movie                      Wonderful World   \n385   tt0472259      movie                       Alone with Her   \n1014  tt1159705      movie                        Teenage Angst   \n1043  tt5518756      movie                      The Misandrists   \n1154  tt1386492      movie                  This Is Not a Movie   \n492   tt0882806      movie                           Sugar Boxx   \n922   tt2948790      movie                     Return to Sender   \n690   tt4477536      movie                   Fifty Shades Freed   \n677   tt8923408  tvEpisode                          #JinnHunter   \n1138  tt1126516      movie              Money Hai Toh Honey Hai   \n1208  tt3044882      movie                                Nasha   \n1197  tt3016748      movie                       Jacob's Ladder   \n846   tt0488164      movie                          Moscow Zero   \n90    tt0299981    tvMovie               Highlander: The Source   \n\n                             originalTitle  isAdult  startYear  endYear  \\\n68                           S.O.S. Part 2        0     2015.0      NaN   \n1181   Chapter Seventeen: The Missionaries        0     2019.0      NaN   \n326    Chapter Thirty-Four: Judgment Night        0     2018.0      NaN   \n71                                 Savages        0     2018.0      NaN   \n1234                                 VIII.        0     2014.0      NaN   \n1281                Looking for a Plus-One        0     2014.0      NaN   \n151                        Bleeding Kansas        0     2014.0      NaN   \n1344        The Hostile Hospital: Part Two        0     2018.0      NaN   \n357                   Trial and Punishment        0     2015.0      NaN   \n605                  59 horas desaparecido        0     2019.0      NaN   \n983                                  Shell        0     2016.0      NaN   \n73                             Like It Was        0     2006.0      NaN   \n1272                  Sex, Lies and Larvae        0     2000.0      NaN   \n800                             Crossroads        0     2006.0      NaN   \n659                                  Moppa        0     2014.0      NaN   \n977                                Aisling        0     2019.0      NaN   \n1096                     Yasamak Güzel Sey        0     2017.0      NaN   \n910                              Bloodline        0     2014.0      NaN   \n746                        You've Got Male        0     2001.0      NaN   \n509                             Nine Lives        0     2008.0      NaN   \n299                  His Troubled Thoughts        0     2016.0      NaN   \n897                          The Fifth Man        0     2012.0      NaN   \n1090                              Big Eden        0     2000.0      NaN   \n109                        A Dog's Purpose        0     2017.0      NaN   \n550                  The Neighbors' Window        0     2019.0      NaN   \n834                                Ryu san        0     2017.0      NaN   \n600   Dyskoloi apohairetismoi: O babas mou        0     2002.0      NaN   \n691                            Storm Watch        0     2014.0      NaN   \n727                  Gokukoku no Brynhildr        0     2014.0      NaN   \n164                       The History Boys        0     2006.0      NaN   \n893                           Guava Island        0     2019.0      NaN   \n927                                  Pilot        0     2014.0      NaN   \n462                                  Right        0     2016.0      NaN   \n1068               I Think We're Alone Now        0     2019.0      NaN   \n940                       Return to Sender        0     2004.0      NaN   \n610                              Chevalier        0     2015.0      NaN   \n1126                 Meet Me in Montenegro        0     2014.0      NaN   \n637                        Wonderful World        0     2009.0      NaN   \n385                         Alone with Her        0     2006.0      NaN   \n1014                         Teenage Angst        0     2008.0      NaN   \n1043                       The Misandrists        0     2017.0      NaN   \n1154                   This Is Not a Movie        0     2011.0      NaN   \n492                             Sugar Boxx        0     2009.0      NaN   \n922                       Return to Sender        0     2015.0      NaN   \n690                     Fifty Shades Freed        0     2018.0      NaN   \n677                            #JinnHunter        0     2019.0      NaN   \n1138               Money Hai Toh Honey Hai        0     2008.0      NaN   \n1208                                 Nasha        0     2013.0      NaN   \n1197                        Jacob's Ladder        0     2019.0      NaN   \n846                            Moscow Zero        0     2006.0      NaN   \n90                  Highlander: The Source        0     2007.0      NaN   \n\n      runtimeMinutes                       genres  averageRating  numVotes  \\\n68              43.0   [Action, Adventure, Drama]            9.4      3820   \n1181            54.0     [Drama, Fantasy, Horror]            9.2      1536   \n326             42.0      [Crime, Drama, Mystery]            9.1      1859   \n71              58.0    [Drama, Fantasy, Romance]            9.0      1428   \n1234            57.0           [Adventure, Drama]            8.9      1753   \n1281            28.0     [Comedy, Drama, Romance]            8.7       396   \n151             42.0             [Drama, Western]            8.6       437   \n1344            40.0   [Adventure, Comedy, Drama]            8.3       812   \n357             56.0           [Adventure, Drama]            8.8       289   \n605             48.0     [Crime, Drama, Thriller]            8.1       674   \n983             32.0              [Comedy, Drama]            8.5       275   \n73              43.0     [Comedy, Drama, Mystery]            8.1       405   \n1272            46.0      [Crime, Drama, Mystery]            7.7       689   \n800             42.0     [Action, Drama, Mystery]            7.7       654   \n659             27.0              [Comedy, Drama]            7.8       410   \n977             51.0      [Crime, Drama, Fantasy]            7.5      1558   \n1096           101.0              [Comedy, Drama]            7.5      1541   \n910             44.0     [Drama, Horror, Mystery]            7.7       436   \n746             45.0      [Crime, Drama, Mystery]            7.6       620   \n509             44.0       [Action, Crime, Drama]            7.6       501   \n299             59.0     [Crime, Drama, Thriller]            7.5       859   \n897             44.0       [Action, Crime, Drama]            7.8       270   \n1090           118.0     [Comedy, Drama, Romance]            7.3      3906   \n109            100.0   [Adventure, Comedy, Drama]            7.2     61521   \n550             21.0               [Drama, Short]            7.2      2222   \n834            129.0       [Action, Crime, Drama]            7.1       960   \n600            113.0              [Drama, Family]            7.1       423   \n691             43.0             [Drama, Romance]            7.0       309   \n727             22.0   [Action, Animation, Drama]            6.8       733   \n164            109.0     [Comedy, Drama, Romance]            6.8     19858   \n893             55.0       [Comedy, Drama, Music]            6.7      7935   \n927             44.0             [Drama, Romance]            6.6       403   \n462             42.0      [Crime, Drama, Mystery]            6.5       641   \n1068            43.0  [Adventure, Drama, Mystery]            6.3       563   \n940            109.0            [Drama, Thriller]            6.4      2342   \n610            105.0              [Comedy, Drama]            6.3      3890   \n1126            90.0     [Comedy, Drama, Romance]            5.8       258   \n637             89.0             [Drama, Romance]            6.1      2288   \n385             78.0     [Crime, Drama, Thriller]            6.0      3738   \n1014            64.0            [Drama, Thriller]            5.3       355   \n1043            91.0              [Comedy, Drama]            5.1       387   \n1154            99.0              [Comedy, Drama]            4.6       642   \n492             86.0               [Crime, Drama]            3.5       229   \n922             92.0            [Drama, Thriller]            5.1     11434   \n690            105.0   [Drama, Romance, Thriller]            4.5     50572   \n677             24.0     [Drama, Fantasy, Horror]            3.6       592   \n1138           138.0              [Comedy, Drama]            2.8       527   \n1208           122.0            [Drama, Thriller]            3.2      1132   \n1197            89.0     [Drama, Horror, Mystery]            3.4      2065   \n846             82.0      [Action, Drama, Horror]            3.0      1620   \n90              86.0   [Action, Adventure, Drama]            3.1      8855   \n\n         score  \n68    9.257234  \n1181  8.897539  \n326   8.855206  \n71    8.704954  \n1234  8.664800  \n1281  8.022893  \n151   7.998802  \n1344  7.981292  \n357   7.938099  \n605   7.782337  \n983   7.748814  \n73    7.646613  \n1272  7.485888  \n800   7.477359  \n659   7.456363  \n977   7.415465  \n1096  7.414651  \n910   7.403887  \n746   7.394989  \n509   7.361367  \n299   7.360934  \n897   7.359094  \n1090  7.274393  \n109   7.198651  \n550   7.165948  \n834   7.048630  \n600   7.006034  \n691   6.928050  \n727   6.806817  \n164   6.800325  \n893   6.703553  \n927   6.681975  \n462   6.585383  \n1068  6.450873  \n940   6.437547  \n610   6.328880  \n1126  6.278922  \n637   6.165171  \n385   6.046991  \n1014  5.892525  \n1043  5.734970  \n1154  5.177715  \n492   5.148386  \n922   5.133310  \n690   4.510298  \n677   4.488131  \n1138  4.004002  \n1208  3.800831  \n1197  3.736377  \n846   3.466230  \n90    3.192245  \n"
     ]
    }
   ],
   "source": [
    "df = movie_rating_df.copy()\n",
    "\n",
    "def user_prefer_recommender(df, ask_adult, ask_start_year, ask_genre, top=100):\n",
    "    #ask_adult = yes/no\n",
    "    if ask_adult.lower() == 'yes':\n",
    "        df = df.loc[df['isAdult']==1]\n",
    "    elif ask_adult.lower() == 'no':\n",
    "        df = df.loc[df['isAdult']==0]\n",
    "\n",
    "    #ask_start_year = numeric\n",
    "    df = df.loc[df['startYear']>=int(ask_start_year)]\n",
    "\n",
    "    #ask_genre = 'all' atau yang lain\n",
    "    if ask_genre.lower() == 'all':\n",
    "        df = df\n",
    "    else:\n",
    "        def filter_genre(x):\n",
    "            if ask_genre.lower() in str(x).lower():\n",
    "                return True\n",
    "            else:\n",
    "                return False\n",
    "        df = df.loc[df['genres'].apply(lambda x: filter_genre(x))]\n",
    "\n",
    "    df = df.loc[df['numVotes']>=m] #Mengambil film dengan m yang lebih besar dibanding numVotes\n",
    "    df = df.sort_values(by='score', ascending=False)\n",
    "    \n",
    "    #jika kamu hanya ingin mengambil 100 teratas\n",
    "    df = df[:top]\n",
    "    return df\n",
    "\n",
    "print(user_prefer_recommender(df,\n",
    "                       ask_adult = 'no',\n",
    "                        ask_start_year = 2000,\n",
    "                       ask_genre = 'drama'\n",
    "                       ))"
   ]
  },
  {
   "cell_type": "code",
   "execution_count": null,
   "metadata": {},
   "outputs": [],
   "source": []
  }
 ]
}